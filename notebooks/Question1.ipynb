{
 "cells": [
  {
   "cell_type": "code",
   "execution_count": null,
   "id": "08dd14f5-8dbd-4551-9dc2-b9d2cf537a2b",
   "metadata": {},
   "outputs": [],
   "source": [
    "import gensim.downloader"
   ]
  },
  {
   "cell_type": "code",
   "execution_count": null,
   "id": "ee799866-2708-4acf-a083-920c0f353ae8",
   "metadata": {},
   "outputs": [],
   "source": [
    "# This downloads under the directory \"~/gensim-data\" by default\n",
    "# change GENSIM_DATA_DIR environment variable if you don't want this\n",
    "# size is about 1.6 GB\n",
    "w2v = gensim.downloader.load('word2vec-google-news-300')"
   ]
  },
  {
   "cell_type": "code",
   "execution_count": null,
   "id": "15af645c-20b5-48fc-8e90-48fef90c71de",
   "metadata": {},
   "outputs": [],
   "source": [
    "# 3 million words\n",
    "len(w2v), type(w2v)"
   ]
  },
  {
   "cell_type": "code",
   "execution_count": null,
   "id": "58db361e-beb9-49bc-a014-da87ba7cfc07",
   "metadata": {
    "scrolled": true
   },
   "outputs": [],
   "source": [
    "# Each vector are 300 long\n",
    "print(w2v[\"compute\"][:10])\n",
    "w2v[\"compute\"].shape"
   ]
  },
  {
   "cell_type": "markdown",
   "id": "88a14467-8e9f-44bb-a40b-bb99548dfb92",
   "metadata": {},
   "source": [
    "# Question 1.\n",
    "\n",
    "The most similar words are\n",
    "\n",
    "    (a) student:  students, 0.729\n",
    "    (b) Apple:  Apple_AAPL, 0.746\n",
    "    (c) apple:  apples, 0.720"
   ]
  },
  {
   "cell_type": "code",
   "execution_count": null,
   "id": "05be0f8f-b86b-4b3f-8662-53857c88d799",
   "metadata": {},
   "outputs": [],
   "source": [
    "# (a) “student”; (b) “Apple”; (c) “apple”\n",
    "words = [\"student\", \"Apple\", \"apple\"]\n",
    "\n",
    "for w in words:\n",
    "    most_sim_w, score = w2v.most_similar(w)[0]\n",
    "    print(f\"{w}:  {most_sim_w}, {score:.3f}\")"
   ]
  }
 ],
 "metadata": {
  "kernelspec": {
   "display_name": "Python 3 (ipykernel)",
   "language": "python",
   "name": "python3"
  },
  "language_info": {
   "codemirror_mode": {
    "name": "ipython",
    "version": 3
   },
   "file_extension": ".py",
   "mimetype": "text/x-python",
   "name": "python",
   "nbconvert_exporter": "python",
   "pygments_lexer": "ipython3",
   "version": "3.10.12"
  }
 },
 "nbformat": 4,
 "nbformat_minor": 5
}
